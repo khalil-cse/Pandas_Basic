{
 "cells": [
  {
   "cell_type": "markdown",
   "id": "aa5bc208",
   "metadata": {},
   "source": [
    "### Quick Examples of Get Cell Value of DataFrame"
   ]
  },
  {
   "cell_type": "raw",
   "id": "f570eddc",
   "metadata": {},
   "source": [
    "\n",
    "# Below are some quick examples \n",
    "\n",
    "# Using loc[]. Get cell value by name & index\n",
    "print(df.loc['r4']['Duration'])\n",
    "print(df.loc['r4'][2])\n",
    "\n",
    "# Using iloc[]. Get cell value by index & name\n",
    "print(df.iloc[3]['Duration'])\n",
    "print(df.iloc[3,2])\n",
    "\n",
    "\n",
    "# Using DataFrame.at[]\n",
    "print(df.at['r4','Duration'])\n",
    "print(df.at[df.index[3],'Duration'])\n",
    "\n",
    "# Using DataFrame.iat[]\n",
    "print(df.iat[3,2])\n",
    "\n",
    "# Get a cell value\n",
    "print(df[\"Duration\"].values[3])\n",
    "\n",
    "# Get cell value from last row\n",
    "print(df.iloc[-1,2])\n",
    "print(df.iloc[-1]['Duration'])\n",
    "print(df.at[df.index[-1],'Duration'])"
   ]
  },
  {
   "cell_type": "code",
   "execution_count": 1,
   "id": "f444468b",
   "metadata": {},
   "outputs": [
    {
     "data": {
      "text/html": [
       "<div>\n",
       "<style scoped>\n",
       "    .dataframe tbody tr th:only-of-type {\n",
       "        vertical-align: middle;\n",
       "    }\n",
       "\n",
       "    .dataframe tbody tr th {\n",
       "        vertical-align: top;\n",
       "    }\n",
       "\n",
       "    .dataframe thead th {\n",
       "        text-align: right;\n",
       "    }\n",
       "</style>\n",
       "<table border=\"1\" class=\"dataframe\">\n",
       "  <thead>\n",
       "    <tr style=\"text-align: right;\">\n",
       "      <th></th>\n",
       "      <th>Courses</th>\n",
       "      <th>Fee</th>\n",
       "      <th>Duration</th>\n",
       "      <th>Discount</th>\n",
       "    </tr>\n",
       "  </thead>\n",
       "  <tbody>\n",
       "    <tr>\n",
       "      <th>r1</th>\n",
       "      <td>Spark</td>\n",
       "      <td>24000</td>\n",
       "      <td>30day</td>\n",
       "      <td>1000</td>\n",
       "    </tr>\n",
       "    <tr>\n",
       "      <th>r2</th>\n",
       "      <td>PySpark</td>\n",
       "      <td>25000</td>\n",
       "      <td>50days</td>\n",
       "      <td>2300</td>\n",
       "    </tr>\n",
       "    <tr>\n",
       "      <th>r3</th>\n",
       "      <td>Hadoop</td>\n",
       "      <td>25000</td>\n",
       "      <td>55days</td>\n",
       "      <td>1000</td>\n",
       "    </tr>\n",
       "    <tr>\n",
       "      <th>r4</th>\n",
       "      <td>Python</td>\n",
       "      <td>24000</td>\n",
       "      <td>40days</td>\n",
       "      <td>1200</td>\n",
       "    </tr>\n",
       "    <tr>\n",
       "      <th>r5</th>\n",
       "      <td>pandas</td>\n",
       "      <td>24000</td>\n",
       "      <td>60days</td>\n",
       "      <td>2500</td>\n",
       "    </tr>\n",
       "  </tbody>\n",
       "</table>\n",
       "</div>"
      ],
      "text/plain": [
       "    Courses    Fee Duration  Discount\n",
       "r1    Spark  24000    30day      1000\n",
       "r2  PySpark  25000   50days      2300\n",
       "r3   Hadoop  25000   55days      1000\n",
       "r4   Python  24000   40days      1200\n",
       "r5   pandas  24000   60days      2500"
      ]
     },
     "execution_count": 1,
     "metadata": {},
     "output_type": "execute_result"
    }
   ],
   "source": [
    "import pandas as pd\n",
    "technologies = {\n",
    "     'Courses':[\"Spark\",\"PySpark\",\"Hadoop\",\"Python\",\"pandas\"],\n",
    "     'Fee' :[24000,25000,25000,24000,24000],\n",
    "     'Duration':['30day','50days','55days', '40days','60days'],\n",
    "     'Discount':[1000,2300,1000,1200,2500]\n",
    "          }\n",
    "index_labels=['r1','r2','r3','r4','r5']\n",
    "df = pd.DataFrame(technologies, index=index_labels)\n",
    "df"
   ]
  },
  {
   "cell_type": "code",
   "execution_count": 2,
   "id": "998e1b8c",
   "metadata": {},
   "outputs": [
    {
     "name": "stdout",
     "output_type": "stream",
     "text": [
      "40days\n",
      "40days\n",
      "40days\n"
     ]
    }
   ],
   "source": [
    "# Using loc[]. Get cell value by name & index\n",
    "print(df.loc['r4']['Duration'])\n",
    "print(df.loc['r4','Duration'])\n",
    "print(df.loc['r4'][2])"
   ]
  },
  {
   "cell_type": "code",
   "execution_count": 3,
   "id": "8cb20707",
   "metadata": {},
   "outputs": [
    {
     "name": "stdout",
     "output_type": "stream",
     "text": [
      "40days\n",
      "40days\n",
      "40days\n"
     ]
    }
   ],
   "source": [
    "# Using iloc[]. Get cell value by index & name\n",
    "print(df.iloc[3]['Duration'])\n",
    "print(df.iloc[3][2])\n",
    "print(df.iloc[3,2])"
   ]
  },
  {
   "cell_type": "code",
   "execution_count": 4,
   "id": "c2eb33ae",
   "metadata": {},
   "outputs": [
    {
     "name": "stdout",
     "output_type": "stream",
     "text": [
      "40days\n",
      "40days\n"
     ]
    }
   ],
   "source": [
    "\n",
    "# Using DataFrame.at[]\n",
    "print(df.at['r4','Duration'])\n",
    "print(df.at[df.index[3],'Duration'])"
   ]
  },
  {
   "cell_type": "markdown",
   "id": "4b44f73b",
   "metadata": {},
   "source": [
    "### Using DataFrame.iat[] select Specific Cell Value by Column Position"
   ]
  },
  {
   "cell_type": "code",
   "execution_count": 5,
   "id": "3e1c5e0f",
   "metadata": {},
   "outputs": [
    {
     "name": "stdout",
     "output_type": "stream",
     "text": [
      "40days\n"
     ]
    }
   ],
   "source": [
    "# Using DataFrame.iat[]\n",
    "print(df.iat[3,2])"
   ]
  },
  {
   "cell_type": "code",
   "execution_count": 6,
   "id": "6ed217aa",
   "metadata": {},
   "outputs": [
    {
     "name": "stdout",
     "output_type": "stream",
     "text": [
      "40days\n"
     ]
    }
   ],
   "source": [
    "\n",
    "# Get a cell value\n",
    "print(df[\"Duration\"].values[3])"
   ]
  },
  {
   "cell_type": "code",
   "execution_count": 7,
   "id": "dcc3a4dd",
   "metadata": {},
   "outputs": [
    {
     "name": "stdout",
     "output_type": "stream",
     "text": [
      "60days\n",
      "60days\n",
      "60days\n"
     ]
    }
   ],
   "source": [
    "# Get cell value from last row\n",
    "print(df.iloc[-1,2])                  # prints 60days\n",
    "print(df.iloc[-1]['Duration'])        # prints 60days\n",
    "print(df.at[df.index[-1],'Duration']) # prints 60days"
   ]
  },
  {
   "cell_type": "markdown",
   "id": "baec85a1",
   "metadata": {},
   "source": [
    "### Pandas Add Column to DataFrame"
   ]
  },
  {
   "cell_type": "code",
   "execution_count": 8,
   "id": "a7589bb8",
   "metadata": {},
   "outputs": [
    {
     "name": "stdout",
     "output_type": "stream",
     "text": [
      "   Courses    Fee  Discount\n",
      "0    Spark  22000      1000\n",
      "1  PySpark  25000      2300\n",
      "2   Hadoop  23000      1000\n",
      "3   Python  24000      1200\n",
      "4   Pandas  26000      2500\n"
     ]
    }
   ],
   "source": [
    "import pandas as pd\n",
    "import numpy as np\n",
    "\n",
    "technologies= {\n",
    "    'Courses':[\"Spark\",\"PySpark\",\"Hadoop\",\"Python\",\"Pandas\"],\n",
    "    'Fee' :[22000,25000,23000,24000,26000],\n",
    "    'Discount':[1000,2300,1000,1200,2500]\n",
    "          }\n",
    "\n",
    "df = pd.DataFrame(technologies)\n",
    "print(df)"
   ]
  },
  {
   "cell_type": "code",
   "execution_count": 9,
   "id": "05b79d46",
   "metadata": {},
   "outputs": [
    {
     "name": "stdout",
     "output_type": "stream",
     "text": [
      "   Courses    Fee  Discount TutorsAssigned\n",
      "0    Spark  22000      1000        William\n",
      "1  PySpark  25000      2300          Henry\n",
      "2   Hadoop  23000      1000        Michael\n",
      "3   Python  24000      1200           John\n",
      "4   Pandas  26000      2500          Messi\n"
     ]
    }
   ],
   "source": [
    "# Add new column to the DataFrame\n",
    "tutors = ['William', 'Henry', 'Michael', 'John', 'Messi']\n",
    "df2 = df.assign(TutorsAssigned=tutors)\n",
    "print(df2)"
   ]
  },
  {
   "cell_type": "code",
   "execution_count": 10,
   "id": "1d6f9e53",
   "metadata": {},
   "outputs": [
    {
     "data": {
      "text/html": [
       "<div>\n",
       "<style scoped>\n",
       "    .dataframe tbody tr th:only-of-type {\n",
       "        vertical-align: middle;\n",
       "    }\n",
       "\n",
       "    .dataframe tbody tr th {\n",
       "        vertical-align: top;\n",
       "    }\n",
       "\n",
       "    .dataframe thead th {\n",
       "        text-align: right;\n",
       "    }\n",
       "</style>\n",
       "<table border=\"1\" class=\"dataframe\">\n",
       "  <thead>\n",
       "    <tr style=\"text-align: right;\">\n",
       "      <th></th>\n",
       "      <th>Courses</th>\n",
       "      <th>Fee</th>\n",
       "      <th>Discount</th>\n",
       "      <th>MNCComp</th>\n",
       "      <th>TutorsAssigned</th>\n",
       "    </tr>\n",
       "  </thead>\n",
       "  <tbody>\n",
       "    <tr>\n",
       "      <th>0</th>\n",
       "      <td>Spark</td>\n",
       "      <td>22000</td>\n",
       "      <td>1000</td>\n",
       "      <td>TATA</td>\n",
       "      <td>William</td>\n",
       "    </tr>\n",
       "    <tr>\n",
       "      <th>1</th>\n",
       "      <td>PySpark</td>\n",
       "      <td>25000</td>\n",
       "      <td>2300</td>\n",
       "      <td>HCL</td>\n",
       "      <td>Henry</td>\n",
       "    </tr>\n",
       "    <tr>\n",
       "      <th>2</th>\n",
       "      <td>Hadoop</td>\n",
       "      <td>23000</td>\n",
       "      <td>1000</td>\n",
       "      <td>Infosys</td>\n",
       "      <td>Michael</td>\n",
       "    </tr>\n",
       "    <tr>\n",
       "      <th>3</th>\n",
       "      <td>Python</td>\n",
       "      <td>24000</td>\n",
       "      <td>1200</td>\n",
       "      <td>Google</td>\n",
       "      <td>John</td>\n",
       "    </tr>\n",
       "    <tr>\n",
       "      <th>4</th>\n",
       "      <td>Pandas</td>\n",
       "      <td>26000</td>\n",
       "      <td>2500</td>\n",
       "      <td>Amazon</td>\n",
       "      <td>Messi</td>\n",
       "    </tr>\n",
       "  </tbody>\n",
       "</table>\n",
       "</div>"
      ],
      "text/plain": [
       "   Courses    Fee  Discount  MNCComp TutorsAssigned\n",
       "0    Spark  22000      1000     TATA        William\n",
       "1  PySpark  25000      2300      HCL          Henry\n",
       "2   Hadoop  23000      1000  Infosys        Michael\n",
       "3   Python  24000      1200   Google           John\n",
       "4   Pandas  26000      2500   Amazon          Messi"
      ]
     },
     "execution_count": 10,
     "metadata": {},
     "output_type": "execute_result"
    }
   ],
   "source": [
    "# Add multiple columns to the DataFrame\n",
    "MNCCompanies = ['TATA','HCL','Infosys','Google','Amazon']\n",
    "df2 = df.assign(MNCComp = MNCCompanies,TutorsAssigned=tutors )\n",
    "df2"
   ]
  },
  {
   "cell_type": "code",
   "execution_count": 11,
   "id": "3b8c5ada",
   "metadata": {},
   "outputs": [
    {
     "name": "stdout",
     "output_type": "stream",
     "text": [
      "    Tutors  Courses    Fee  Discount\n",
      "0  William    Spark  22000      1000\n",
      "1    Henry  PySpark  25000      2300\n",
      "2  Michael   Hadoop  23000      1000\n",
      "3     John   Python  24000      1200\n",
      "4    Messi   Pandas  26000      2500\n"
     ]
    }
   ],
   "source": [
    "# Add new column at the specific position\n",
    "df = pd.DataFrame(technologies)\n",
    "df.insert(0,'Tutors', tutors ) #1st column e insert hobe\n",
    "print(df)"
   ]
  },
  {
   "cell_type": "code",
   "execution_count": 12,
   "id": "4bdc0fa3",
   "metadata": {},
   "outputs": [
    {
     "name": "stdout",
     "output_type": "stream",
     "text": [
      "   Courses    Fee  Discount   Tutors\n",
      "0    Spark  22000      1000  William\n",
      "1  PySpark  25000      2300    Henry\n",
      "2   Hadoop  23000      1000  Michael\n",
      "3   Python  24000      1200     John\n",
      "4   Pandas  26000      2500      NaN\n"
     ]
    }
   ],
   "source": [
    "# Add new column by mapping to the existing column\n",
    "df = pd.DataFrame(technologies)\n",
    "tutors = {\"Spark\":\"William\", \"PySpark\":\"Henry\", \"Hadoop\":\"Michael\",\"Python\":\"John\", \"pandas\":\"Messi\"}\n",
    "df['Tutors'] = df['Courses'].map(tutors)\n",
    "print(df)"
   ]
  },
  {
   "cell_type": "code",
   "execution_count": 13,
   "id": "dad3dcab",
   "metadata": {},
   "outputs": [
    {
     "name": "stdout",
     "output_type": "stream",
     "text": [
      "   Courses    Fee  Discount   Tutors\n",
      "0    Spark  22000      1000  William\n",
      "1  PySpark  25000      2300    Henry\n",
      "2   Hadoop  23000      1000  Michael\n",
      "3   Python  24000      1200     John\n",
      "4   Pandas  26000      2500    Messi\n"
     ]
    }
   ],
   "source": [
    "# Assign the column to the DataFrame\n",
    "df = pd.DataFrame(technologies)\n",
    "tutors = ['William', 'Henry', 'Michael', 'John', 'Messi']\n",
    "df.loc[:, 'Tutors'] = tutors\n",
    "print(df)"
   ]
  },
  {
   "cell_type": "markdown",
   "id": "dfd6ee3b",
   "metadata": {},
   "source": [
    "### Pandas Rename Column"
   ]
  },
  {
   "cell_type": "code",
   "execution_count": 14,
   "id": "8df8f5aa",
   "metadata": {},
   "outputs": [
    {
     "name": "stdout",
     "output_type": "stream",
     "text": [
      "Index(['Courses_List', 'Fee', 'Discount', 'Tutors'], dtype='object')\n"
     ]
    }
   ],
   "source": [
    "# Rename a Single Column \n",
    "df2=df.rename(columns = {'Courses':'Courses_List'})\n",
    "print(df2.columns)\n"
   ]
  },
  {
   "cell_type": "code",
   "execution_count": 15,
   "id": "9621c9e3",
   "metadata": {},
   "outputs": [
    {
     "data": {
      "text/html": [
       "<div>\n",
       "<style scoped>\n",
       "    .dataframe tbody tr th:only-of-type {\n",
       "        vertical-align: middle;\n",
       "    }\n",
       "\n",
       "    .dataframe tbody tr th {\n",
       "        vertical-align: top;\n",
       "    }\n",
       "\n",
       "    .dataframe thead th {\n",
       "        text-align: right;\n",
       "    }\n",
       "</style>\n",
       "<table border=\"1\" class=\"dataframe\">\n",
       "  <thead>\n",
       "    <tr style=\"text-align: right;\">\n",
       "      <th></th>\n",
       "      <th>Courses_List</th>\n",
       "      <th>Fee</th>\n",
       "      <th>Discount</th>\n",
       "      <th>Tutors</th>\n",
       "    </tr>\n",
       "  </thead>\n",
       "  <tbody>\n",
       "    <tr>\n",
       "      <th>0</th>\n",
       "      <td>Spark</td>\n",
       "      <td>22000</td>\n",
       "      <td>1000</td>\n",
       "      <td>William</td>\n",
       "    </tr>\n",
       "    <tr>\n",
       "      <th>1</th>\n",
       "      <td>PySpark</td>\n",
       "      <td>25000</td>\n",
       "      <td>2300</td>\n",
       "      <td>Henry</td>\n",
       "    </tr>\n",
       "    <tr>\n",
       "      <th>2</th>\n",
       "      <td>Hadoop</td>\n",
       "      <td>23000</td>\n",
       "      <td>1000</td>\n",
       "      <td>Michael</td>\n",
       "    </tr>\n",
       "    <tr>\n",
       "      <th>3</th>\n",
       "      <td>Python</td>\n",
       "      <td>24000</td>\n",
       "      <td>1200</td>\n",
       "      <td>John</td>\n",
       "    </tr>\n",
       "    <tr>\n",
       "      <th>4</th>\n",
       "      <td>Pandas</td>\n",
       "      <td>26000</td>\n",
       "      <td>2500</td>\n",
       "      <td>Messi</td>\n",
       "    </tr>\n",
       "  </tbody>\n",
       "</table>\n",
       "</div>"
      ],
      "text/plain": [
       "  Courses_List    Fee  Discount   Tutors\n",
       "0        Spark  22000      1000  William\n",
       "1      PySpark  25000      2300    Henry\n",
       "2       Hadoop  23000      1000  Michael\n",
       "3       Python  24000      1200     John\n",
       "4       Pandas  26000      2500    Messi"
      ]
     },
     "execution_count": 15,
     "metadata": {},
     "output_type": "execute_result"
    }
   ],
   "source": [
    "df2"
   ]
  },
  {
   "cell_type": "code",
   "execution_count": 16,
   "id": "e2b28bff",
   "metadata": {},
   "outputs": [],
   "source": [
    "# Alternatively you can write above code using axis\n",
    "df3=df.rename({'Courses':'Courses_List'}, axis=1)\n",
    "df4=df.rename({'Courses':'Courses_List'}, axis='columns',inplace=True)"
   ]
  },
  {
   "cell_type": "code",
   "execution_count": 17,
   "id": "89fbbcb9",
   "metadata": {},
   "outputs": [
    {
     "data": {
      "text/html": [
       "<div>\n",
       "<style scoped>\n",
       "    .dataframe tbody tr th:only-of-type {\n",
       "        vertical-align: middle;\n",
       "    }\n",
       "\n",
       "    .dataframe tbody tr th {\n",
       "        vertical-align: top;\n",
       "    }\n",
       "\n",
       "    .dataframe thead th {\n",
       "        text-align: right;\n",
       "    }\n",
       "</style>\n",
       "<table border=\"1\" class=\"dataframe\">\n",
       "  <thead>\n",
       "    <tr style=\"text-align: right;\">\n",
       "      <th></th>\n",
       "      <th>Courses_List</th>\n",
       "      <th>Fee</th>\n",
       "      <th>Discount</th>\n",
       "      <th>Tutors</th>\n",
       "    </tr>\n",
       "  </thead>\n",
       "  <tbody>\n",
       "    <tr>\n",
       "      <th>0</th>\n",
       "      <td>Spark</td>\n",
       "      <td>22000</td>\n",
       "      <td>1000</td>\n",
       "      <td>William</td>\n",
       "    </tr>\n",
       "    <tr>\n",
       "      <th>1</th>\n",
       "      <td>PySpark</td>\n",
       "      <td>25000</td>\n",
       "      <td>2300</td>\n",
       "      <td>Henry</td>\n",
       "    </tr>\n",
       "    <tr>\n",
       "      <th>2</th>\n",
       "      <td>Hadoop</td>\n",
       "      <td>23000</td>\n",
       "      <td>1000</td>\n",
       "      <td>Michael</td>\n",
       "    </tr>\n",
       "    <tr>\n",
       "      <th>3</th>\n",
       "      <td>Python</td>\n",
       "      <td>24000</td>\n",
       "      <td>1200</td>\n",
       "      <td>John</td>\n",
       "    </tr>\n",
       "    <tr>\n",
       "      <th>4</th>\n",
       "      <td>Pandas</td>\n",
       "      <td>26000</td>\n",
       "      <td>2500</td>\n",
       "      <td>Messi</td>\n",
       "    </tr>\n",
       "  </tbody>\n",
       "</table>\n",
       "</div>"
      ],
      "text/plain": [
       "  Courses_List    Fee  Discount   Tutors\n",
       "0        Spark  22000      1000  William\n",
       "1      PySpark  25000      2300    Henry\n",
       "2       Hadoop  23000      1000  Michael\n",
       "3       Python  24000      1200     John\n",
       "4       Pandas  26000      2500    Messi"
      ]
     },
     "execution_count": 17,
     "metadata": {},
     "output_type": "execute_result"
    }
   ],
   "source": [
    "df3"
   ]
  },
  {
   "cell_type": "code",
   "execution_count": 18,
   "id": "acb63ff3",
   "metadata": {},
   "outputs": [],
   "source": [
    "df4"
   ]
  },
  {
   "cell_type": "code",
   "execution_count": 19,
   "id": "887edbb3",
   "metadata": {},
   "outputs": [
    {
     "data": {
      "text/html": [
       "<div>\n",
       "<style scoped>\n",
       "    .dataframe tbody tr th:only-of-type {\n",
       "        vertical-align: middle;\n",
       "    }\n",
       "\n",
       "    .dataframe tbody tr th {\n",
       "        vertical-align: top;\n",
       "    }\n",
       "\n",
       "    .dataframe thead th {\n",
       "        text-align: right;\n",
       "    }\n",
       "</style>\n",
       "<table border=\"1\" class=\"dataframe\">\n",
       "  <thead>\n",
       "    <tr style=\"text-align: right;\">\n",
       "      <th></th>\n",
       "      <th>Courses_List</th>\n",
       "      <th>Fee</th>\n",
       "      <th>Discount</th>\n",
       "      <th>Tutors</th>\n",
       "    </tr>\n",
       "  </thead>\n",
       "  <tbody>\n",
       "    <tr>\n",
       "      <th>0</th>\n",
       "      <td>Spark</td>\n",
       "      <td>22000</td>\n",
       "      <td>1000</td>\n",
       "      <td>William</td>\n",
       "    </tr>\n",
       "    <tr>\n",
       "      <th>1</th>\n",
       "      <td>PySpark</td>\n",
       "      <td>25000</td>\n",
       "      <td>2300</td>\n",
       "      <td>Henry</td>\n",
       "    </tr>\n",
       "    <tr>\n",
       "      <th>2</th>\n",
       "      <td>Hadoop</td>\n",
       "      <td>23000</td>\n",
       "      <td>1000</td>\n",
       "      <td>Michael</td>\n",
       "    </tr>\n",
       "    <tr>\n",
       "      <th>3</th>\n",
       "      <td>Python</td>\n",
       "      <td>24000</td>\n",
       "      <td>1200</td>\n",
       "      <td>John</td>\n",
       "    </tr>\n",
       "    <tr>\n",
       "      <th>4</th>\n",
       "      <td>Pandas</td>\n",
       "      <td>26000</td>\n",
       "      <td>2500</td>\n",
       "      <td>Messi</td>\n",
       "    </tr>\n",
       "  </tbody>\n",
       "</table>\n",
       "</div>"
      ],
      "text/plain": [
       "  Courses_List    Fee  Discount   Tutors\n",
       "0        Spark  22000      1000  William\n",
       "1      PySpark  25000      2300    Henry\n",
       "2       Hadoop  23000      1000  Michael\n",
       "3       Python  24000      1200     John\n",
       "4       Pandas  26000      2500    Messi"
      ]
     },
     "execution_count": 19,
     "metadata": {},
     "output_type": "execute_result"
    }
   ],
   "source": [
    "df"
   ]
  },
  {
   "cell_type": "code",
   "execution_count": 20,
   "id": "0d0d51f3",
   "metadata": {},
   "outputs": [
    {
     "name": "stdout",
     "output_type": "stream",
     "text": [
      "Index(['Courses_List', 'Courses_Fee', 'New_discount', 'Tutors'], dtype='object')\n"
     ]
    }
   ],
   "source": [
    "# Rename multiple columns\n",
    "df.rename(columns = {'Courses':'Courses_List','Fee':'Courses_Fee', \n",
    "   'Discount':'New_discount'}, inplace = True)\n",
    "print(df.columns)"
   ]
  },
  {
   "cell_type": "markdown",
   "id": "1abd9a67",
   "metadata": {},
   "source": [
    "### Rename All Columns by adding Suffixes or Prefix"
   ]
  },
  {
   "cell_type": "code",
   "execution_count": 21,
   "id": "91196302",
   "metadata": {},
   "outputs": [
    {
     "name": "stdout",
     "output_type": "stream",
     "text": [
      "Index(['col_Courses_List', 'col_Courses_Fee', 'col_New_discount',\n",
      "       'col_Tutors'],\n",
      "      dtype='object')\n"
     ]
    }
   ],
   "source": [
    "df2=df.add_prefix('col_')\n",
    "print(df2.columns)"
   ]
  },
  {
   "cell_type": "code",
   "execution_count": 22,
   "id": "5d67748e",
   "metadata": {},
   "outputs": [],
   "source": [
    "# Pandas rename column by index\n",
    "df.columns.values[2] = \"new dis\""
   ]
  },
  {
   "cell_type": "code",
   "execution_count": 23,
   "id": "76d0c60b",
   "metadata": {},
   "outputs": [
    {
     "name": "stdout",
     "output_type": "stream",
     "text": [
      "Index(['Courses_List', 'Courses_Fee', 'new dis', 'Tutors'], dtype='object')\n"
     ]
    }
   ],
   "source": [
    "print(df.columns)"
   ]
  },
  {
   "cell_type": "code",
   "execution_count": 24,
   "id": "3f99b07f",
   "metadata": {},
   "outputs": [],
   "source": [
    "#df.columns = ['col_'+str(col) for col in df.columns]"
   ]
  },
  {
   "cell_type": "code",
   "execution_count": 25,
   "id": "532f5f2b",
   "metadata": {},
   "outputs": [
    {
     "data": {
      "text/plain": [
       "Index(['Courses_List', 'Courses_Fee', 'new dis', 'Tutors'], dtype='object')"
      ]
     },
     "execution_count": 25,
     "metadata": {},
     "output_type": "execute_result"
    }
   ],
   "source": [
    "df.columns"
   ]
  },
  {
   "cell_type": "code",
   "execution_count": 26,
   "id": "efb91046",
   "metadata": {},
   "outputs": [
    {
     "name": "stdout",
     "output_type": "stream",
     "text": [
      "Index(['col_Courses_List', 'col_Courses_Fee', 'col_new dis', 'col_Tutors'], dtype='object')\n"
     ]
    }
   ],
   "source": [
    "df2=df.add_prefix('col_') #this is same in previous statement\n",
    "print(df2.columns)"
   ]
  },
  {
   "cell_type": "markdown",
   "id": "6fc281f7",
   "metadata": {},
   "source": [
    "### Rename or Convert All Columns to Lower or Upper Case"
   ]
  },
  {
   "cell_type": "code",
   "execution_count": 27,
   "id": "49d745bb",
   "metadata": {},
   "outputs": [
    {
     "name": "stdout",
     "output_type": "stream",
     "text": [
      "Index(['courses', 'fee', 'discount'], dtype='object')\n"
     ]
    }
   ],
   "source": [
    "# Change to all lower case\n",
    "df = pd.DataFrame(technologies)\n",
    "df2=df.rename(str.lower, axis='columns')\n",
    "print(df2.columns)"
   ]
  },
  {
   "cell_type": "code",
   "execution_count": 28,
   "id": "357378bf",
   "metadata": {},
   "outputs": [
    {
     "name": "stdout",
     "output_type": "stream",
     "text": [
      "Index(['COURSES', 'FEE', 'DISCOUNT'], dtype='object')\n"
     ]
    }
   ],
   "source": [
    "# Change to all upper case\n",
    "df = pd.DataFrame(technologies)\n",
    "df2=df.rename(str.upper, axis='columns')\n",
    "print(df2.columns)"
   ]
  },
  {
   "cell_type": "code",
   "execution_count": 29,
   "id": "366c4886",
   "metadata": {},
   "outputs": [
    {
     "name": "stdout",
     "output_type": "stream",
     "text": [
      "Index(['Courses_List', 'Course_Fee_new', 'Course_Duration'], dtype='object')\n"
     ]
    },
    {
     "name": "stderr",
     "output_type": "stream",
     "text": [
      "C:\\Users\\Khalil\\AppData\\Local\\Temp\\ipykernel_1528\\756120151.py:2: FutureWarning: DataFrame.set_axis 'inplace' keyword is deprecated and will be removed in a future version. Use `obj = obj.set_axis(..., copy=False)` instead\n",
      "  df.set_axis(['Courses_List', 'Course_Fee_new', 'Course_Duration'], axis=1, inplace=True)\n"
     ]
    }
   ],
   "source": [
    "# Change column name using set_axis()\n",
    "df.set_axis(['Courses_List', 'Course_Fee_new', 'Course_Duration'], axis=1, inplace=True)\n",
    "print(df.columns)"
   ]
  },
  {
   "cell_type": "code",
   "execution_count": 30,
   "id": "6951c232",
   "metadata": {},
   "outputs": [
    {
     "data": {
      "text/html": [
       "<div>\n",
       "<style scoped>\n",
       "    .dataframe tbody tr th:only-of-type {\n",
       "        vertical-align: middle;\n",
       "    }\n",
       "\n",
       "    .dataframe tbody tr th {\n",
       "        vertical-align: top;\n",
       "    }\n",
       "\n",
       "    .dataframe thead th {\n",
       "        text-align: right;\n",
       "    }\n",
       "</style>\n",
       "<table border=\"1\" class=\"dataframe\">\n",
       "  <thead>\n",
       "    <tr style=\"text-align: right;\">\n",
       "      <th></th>\n",
       "      <th>Courses_List</th>\n",
       "      <th>Course_Fee_new</th>\n",
       "      <th>Course_Duration</th>\n",
       "    </tr>\n",
       "  </thead>\n",
       "  <tbody>\n",
       "    <tr>\n",
       "      <th>0</th>\n",
       "      <td>Spark</td>\n",
       "      <td>22000</td>\n",
       "      <td>1000</td>\n",
       "    </tr>\n",
       "    <tr>\n",
       "      <th>1</th>\n",
       "      <td>PySpark</td>\n",
       "      <td>25000</td>\n",
       "      <td>2300</td>\n",
       "    </tr>\n",
       "    <tr>\n",
       "      <th>2</th>\n",
       "      <td>Hadoop</td>\n",
       "      <td>23000</td>\n",
       "      <td>1000</td>\n",
       "    </tr>\n",
       "    <tr>\n",
       "      <th>3</th>\n",
       "      <td>Python</td>\n",
       "      <td>24000</td>\n",
       "      <td>1200</td>\n",
       "    </tr>\n",
       "    <tr>\n",
       "      <th>4</th>\n",
       "      <td>Pandas</td>\n",
       "      <td>26000</td>\n",
       "      <td>2500</td>\n",
       "    </tr>\n",
       "  </tbody>\n",
       "</table>\n",
       "</div>"
      ],
      "text/plain": [
       "  Courses_List  Course_Fee_new  Course_Duration\n",
       "0        Spark           22000             1000\n",
       "1      PySpark           25000             2300\n",
       "2       Hadoop           23000             1000\n",
       "3       Python           24000             1200\n",
       "4       Pandas           26000             2500"
      ]
     },
     "execution_count": 30,
     "metadata": {},
     "output_type": "execute_result"
    }
   ],
   "source": [
    "df"
   ]
  },
  {
   "cell_type": "code",
   "execution_count": 31,
   "id": "a20646f4",
   "metadata": {},
   "outputs": [
    {
     "name": "stdout",
     "output_type": "stream",
     "text": [
      "Index(['Courses List', 'Course Fee new', 'Course Duration'], dtype='object')\n"
     ]
    }
   ],
   "source": [
    "df.columns = df.columns.str.replace(\"_\",\" \")\n",
    "print(df.columns)"
   ]
  },
  {
   "cell_type": "code",
   "execution_count": 32,
   "id": "7655110a",
   "metadata": {},
   "outputs": [
    {
     "data": {
      "text/html": [
       "<div>\n",
       "<style scoped>\n",
       "    .dataframe tbody tr th:only-of-type {\n",
       "        vertical-align: middle;\n",
       "    }\n",
       "\n",
       "    .dataframe tbody tr th {\n",
       "        vertical-align: top;\n",
       "    }\n",
       "\n",
       "    .dataframe thead th {\n",
       "        text-align: right;\n",
       "    }\n",
       "</style>\n",
       "<table border=\"1\" class=\"dataframe\">\n",
       "  <thead>\n",
       "    <tr style=\"text-align: right;\">\n",
       "      <th></th>\n",
       "      <th>Course</th>\n",
       "      <th>Course Fee new</th>\n",
       "      <th>Course Duration</th>\n",
       "    </tr>\n",
       "  </thead>\n",
       "  <tbody>\n",
       "    <tr>\n",
       "      <th>0</th>\n",
       "      <td>Spark</td>\n",
       "      <td>22000</td>\n",
       "      <td>1000</td>\n",
       "    </tr>\n",
       "    <tr>\n",
       "      <th>1</th>\n",
       "      <td>PySpark</td>\n",
       "      <td>25000</td>\n",
       "      <td>2300</td>\n",
       "    </tr>\n",
       "    <tr>\n",
       "      <th>2</th>\n",
       "      <td>Hadoop</td>\n",
       "      <td>23000</td>\n",
       "      <td>1000</td>\n",
       "    </tr>\n",
       "    <tr>\n",
       "      <th>3</th>\n",
       "      <td>Python</td>\n",
       "      <td>24000</td>\n",
       "      <td>1200</td>\n",
       "    </tr>\n",
       "    <tr>\n",
       "      <th>4</th>\n",
       "      <td>Pandas</td>\n",
       "      <td>26000</td>\n",
       "      <td>2500</td>\n",
       "    </tr>\n",
       "  </tbody>\n",
       "</table>\n",
       "</div>"
      ],
      "text/plain": [
       "    Course  Course Fee new  Course Duration\n",
       "0    Spark           22000             1000\n",
       "1  PySpark           25000             2300\n",
       "2   Hadoop           23000             1000\n",
       "3   Python           24000             1200\n",
       "4   Pandas           26000             2500"
      ]
     },
     "execution_count": 32,
     "metadata": {},
     "output_type": "execute_result"
    }
   ],
   "source": [
    "# Throw Error when Rename column doesn't exists.\n",
    "df.rename(columns = {'Courses List':'Course'}, errors = \"raise\")"
   ]
  },
  {
   "cell_type": "code",
   "execution_count": 33,
   "id": "17f0e16a",
   "metadata": {},
   "outputs": [
    {
     "name": "stdout",
     "output_type": "stream",
     "text": [
      "Index(['Courses_List', 'Fee', 'Discount'], dtype='object')\n"
     ]
    }
   ],
   "source": [
    "\n",
    "# Change column only if column exists.\n",
    "df = pd.DataFrame(technologies)\n",
    "d={'Courses':'Courses_List','Fees':'Courses_fees'}\n",
    "df.rename(columns={k: v for k, v in d.items() if k in df.columns}, inplace=True,errors = \"raise\")\n",
    "print(df.columns)"
   ]
  },
  {
   "cell_type": "markdown",
   "id": "4f272bca",
   "metadata": {},
   "source": [
    "### Pandas.DataFrame.drop() Syntax – Drop Rows & Columns"
   ]
  },
  {
   "cell_type": "raw",
   "id": "0111ebbc",
   "metadata": {},
   "source": [
    "df1 = df.drop(labels=['r1','r2'],axis=0)"
   ]
  },
  {
   "cell_type": "raw",
   "id": "e3b4fadc",
   "metadata": {},
   "source": [
    "# Delete Rows by Index numbers\n",
    "df = pd.DataFrame(technologies,index=indexes)\n",
    "df1=df.drop(df.index[[1,3]])\n",
    "print(df1)"
   ]
  },
  {
   "cell_type": "code",
   "execution_count": null,
   "id": "57893350",
   "metadata": {},
   "outputs": [],
   "source": []
  }
 ],
 "metadata": {
  "kernelspec": {
   "display_name": "Python 3 (ipykernel)",
   "language": "python",
   "name": "python3"
  },
  "language_info": {
   "codemirror_mode": {
    "name": "ipython",
    "version": 3
   },
   "file_extension": ".py",
   "mimetype": "text/x-python",
   "name": "python",
   "nbconvert_exporter": "python",
   "pygments_lexer": "ipython3",
   "version": "3.11.4"
  }
 },
 "nbformat": 4,
 "nbformat_minor": 5
}
