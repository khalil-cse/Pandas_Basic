{
 "cells": [
  {
   "cell_type": "markdown",
   "id": "2f8b8789",
   "metadata": {},
   "source": [
    "### Create pandas DataFrame"
   ]
  },
  {
   "cell_type": "code",
   "execution_count": 1,
   "id": "d3632267",
   "metadata": {},
   "outputs": [
    {
     "name": "stdout",
     "output_type": "stream",
     "text": [
      "        0      1       2\n",
      "0   Spark  20000  30days\n",
      "1  Pandas  25000  40days\n"
     ]
    }
   ],
   "source": [
    "# Create pandas DataFrame from List\n",
    "import pandas as pd\n",
    "technologies = [ [\"Spark\",20000, \"30days\"], \n",
    "                 [\"Pandas\",25000, \"40days\"], \n",
    "               ]\n",
    "df=pd.DataFrame(technologies)\n",
    "print(df)"
   ]
  },
  {
   "cell_type": "code",
   "execution_count": 2,
   "id": "3ed8be6c",
   "metadata": {},
   "outputs": [
    {
     "name": "stdout",
     "output_type": "stream",
     "text": [
      "  Courses    Fee Duration\n",
      "a   Spark  20000   30days\n",
      "b  Pandas  25000   40days\n"
     ]
    }
   ],
   "source": [
    "\n",
    "# Add Column & Row Labels to the DataFrame\n",
    "column_names=[\"Courses\",\"Fee\",\"Duration\"]\n",
    "row_label=[\"a\",\"b\"]\n",
    "df=pd.DataFrame(technologies,columns=column_names,index=row_label)\n",
    "print(df)"
   ]
  },
  {
   "cell_type": "code",
   "execution_count": 3,
   "id": "570636e0",
   "metadata": {},
   "outputs": [
    {
     "data": {
      "text/plain": [
       "Courses     object\n",
       "Fee          int64\n",
       "Duration    object\n",
       "dtype: object"
      ]
     },
     "execution_count": 3,
     "metadata": {},
     "output_type": "execute_result"
    }
   ],
   "source": [
    "df.dtypes"
   ]
  },
  {
   "cell_type": "code",
   "execution_count": 4,
   "id": "c9115318",
   "metadata": {},
   "outputs": [],
   "source": [
    "# Set custom types to DataFrame\n",
    "types={'Courses': str,'Fee':float,'Duration':str}\n",
    "df=df.astype(types)"
   ]
  },
  {
   "cell_type": "code",
   "execution_count": 5,
   "id": "e3267717",
   "metadata": {},
   "outputs": [
    {
     "name": "stdout",
     "output_type": "stream",
     "text": [
      "  Courses    Fee Duration\n",
      "0   Spark  20000   30days\n",
      "1  Pandas  25000   40days\n"
     ]
    }
   ],
   "source": [
    "# Create DataFrame from Dict\n",
    "technologies = {\n",
    "    'Courses':[\"Spark\",\"Pandas\"],\n",
    "    'Fee' :[20000,25000],\n",
    "    'Duration':['30days','40days']\n",
    "              }\n",
    "df = pd.DataFrame(technologies)\n",
    "print(df)"
   ]
  },
  {
   "cell_type": "code",
   "execution_count": 6,
   "id": "865a7083",
   "metadata": {},
   "outputs": [
    {
     "name": "stdout",
     "output_type": "stream",
     "text": [
      "   Courses    Fee Duration\n",
      "r1   Spark  20000   30days\n",
      "r2  Pandas  25000   40days\n"
     ]
    }
   ],
   "source": [
    "# Create DataFrame with Index.\n",
    "technologies = {\n",
    "    'Courses':[\"Spark\",\"Pandas\"],\n",
    "    'Fee' :[20000,25000],\n",
    "    'Duration':['30days','40days']\n",
    "              }\n",
    "index_label=[\"r1\",\"r2\"]\n",
    "df = pd.DataFrame(technologies, index=index_label)\n",
    "print(df)"
   ]
  },
  {
   "cell_type": "markdown",
   "id": "0e2b1816",
   "metadata": {},
   "source": [
    "### Creating Dataframe from list of dicts object "
   ]
  },
  {
   "cell_type": "code",
   "execution_count": 7,
   "id": "fbb8ea93",
   "metadata": {},
   "outputs": [
    {
     "name": "stdout",
     "output_type": "stream",
     "text": [
      "  Courses    Fee Duration\n",
      "0   Spark  20000   30days\n",
      "1  Pandas  25000   40days\n"
     ]
    }
   ],
   "source": [
    "# Creates DataFrame from list of dict\n",
    "technologies = [{'Courses':'Spark', 'Fee': 20000, 'Duration':'30days'},\n",
    "        {'Courses':'Pandas', 'Fee': 25000, 'Duration': '40days'}]\n",
    "\n",
    "df = pd.DataFrame(technologies)\n",
    "print(df)"
   ]
  },
  {
   "cell_type": "code",
   "execution_count": 10,
   "id": "73b3ec39",
   "metadata": {},
   "outputs": [
    {
     "name": "stdout",
     "output_type": "stream",
     "text": [
      "        0      1       2\n",
      "0   Spark  20000  30days\n",
      "1  Pandas  25000  40days\n"
     ]
    }
   ],
   "source": [
    "# Create pandas Series\n",
    "courses = pd.Series([\"Spark\",\"Pandas\"])\n",
    "fees = pd.Series([20000,25000])\n",
    "duration = pd.Series(['30days','40days'])\n",
    "\n",
    "# Create DataFrame from series objects.\n",
    "df=pd.concat([courses,fees,duration],axis=1)# axis =0 mean row\n",
    "print(df)"
   ]
  },
  {
   "cell_type": "markdown",
   "id": "f0bfd993",
   "metadata": {},
   "source": [
    "### Add Column Labels "
   ]
  },
  {
   "cell_type": "code",
   "execution_count": 11,
   "id": "61678a25",
   "metadata": {},
   "outputs": [
    {
     "name": "stdout",
     "output_type": "stream",
     "text": [
      "   Courses  Course_Fee Course_Duration\n",
      "r1   Spark       20000          30days\n",
      "r2  Pandas       25000          40days\n"
     ]
    }
   ],
   "source": [
    "# Assign Index to Series\n",
    "index_labels=['r1','r2']\n",
    "courses.index = index_labels\n",
    "fees.index = index_labels\n",
    "duration.index = index_labels\n",
    "\n",
    "# Concat Series by Changing Names\n",
    "df=pd.concat({'Courses': courses,\n",
    "              'Course_Fee': fees,\n",
    "              'Course_Duration': duration},axis=1)\n",
    "print(df)"
   ]
  },
  {
   "cell_type": "markdown",
   "id": "09bfc00e",
   "metadata": {},
   "source": [
    "### Creating DataFrame using zip() function"
   ]
  },
  {
   "cell_type": "code",
   "execution_count": 15,
   "id": "1b7d51ef",
   "metadata": {},
   "outputs": [
    {
     "name": "stdout",
     "output_type": "stream",
     "text": [
      "  Courses    Fee Duration\n",
      "0   Spark  20000   30days\n",
      "1  Pandas  25000   40days\n"
     ]
    }
   ],
   "source": [
    "# Create Lists\n",
    "Courses = ['Spark', 'Pandas']\n",
    "Fee = [20000,25000]\n",
    "Duration = ['30days','40days']\n",
    "   \n",
    "# Merge lists by using zip().\n",
    "\n",
    "df = pd.DataFrame(list(zip(Courses, Fee, Duration)), columns = ['Courses', 'Fee', 'Duration'])\n",
    "print(df)"
   ]
  },
  {
   "cell_type": "markdown",
   "id": "ad3facb3",
   "metadata": {},
   "source": [
    "### Quick Examples of Select Rows by Index Position & Labels"
   ]
  },
  {
   "cell_type": "raw",
   "id": "748dfed5",
   "metadata": {},
   "source": [
    "# Select Rows by Integer Index\n",
    "df2 = df.iloc[2]     # Select Row by Index\n",
    "df2 = df.iloc[[2,3,6]]    # Select Rows by Index List\n",
    "df2 = df.iloc[1:5]   # Select Rows by Integer Index Range\n",
    "df2 = df.iloc[:1]    # Select First Row\n",
    "df2 = df.iloc[:3]    # Select First 3 Rows\n",
    "df2 = df.iloc[-1:]   # Select Last Row\n",
    "df2 = df.iloc[-3:]   # Select Last 3 Row\n",
    "df2 = df.iloc[::2]   # Selects alternate rows mane 2 row por por print hobe\n",
    "\n",
    "# Select Rows by Index Labels\n",
    "df2 = df.loc['r2']          # Select Row by Index Label\n",
    "df2 = df.loc[['r2','r3','r6']]    # Select Rows by Index Label List\n",
    "df2 = df.loc['r1':'r5']     # Select Rows by Label Index Range\n",
    "df2 = df.loc['r1':'r5']     # Select Rows by Label Index Range\n",
    "df2 = df.loc['r1':'r5':2]   # Select Alternate Rows with in Index Labels"
   ]
  },
  {
   "cell_type": "markdown",
   "id": "3b4ea866",
   "metadata": {},
   "source": [
    "### Pandas.DataFrame.query()"
   ]
  },
  {
   "cell_type": "code",
   "execution_count": 25,
   "id": "edafd83e",
   "metadata": {},
   "outputs": [
    {
     "data": {
      "text/html": [
       "<div>\n",
       "<style scoped>\n",
       "    .dataframe tbody tr th:only-of-type {\n",
       "        vertical-align: middle;\n",
       "    }\n",
       "\n",
       "    .dataframe tbody tr th {\n",
       "        vertical-align: top;\n",
       "    }\n",
       "\n",
       "    .dataframe thead th {\n",
       "        text-align: right;\n",
       "    }\n",
       "</style>\n",
       "<table border=\"1\" class=\"dataframe\">\n",
       "  <thead>\n",
       "    <tr style=\"text-align: right;\">\n",
       "      <th></th>\n",
       "      <th>Courses</th>\n",
       "      <th>Fee</th>\n",
       "      <th>Duration</th>\n",
       "    </tr>\n",
       "  </thead>\n",
       "  <tbody>\n",
       "    <tr>\n",
       "      <th>0</th>\n",
       "      <td>Spark</td>\n",
       "      <td>20000</td>\n",
       "      <td>30days</td>\n",
       "    </tr>\n",
       "  </tbody>\n",
       "</table>\n",
       "</div>"
      ],
      "text/plain": [
       "  Courses    Fee Duration\n",
       "0   Spark  20000   30days"
      ]
     },
     "execution_count": 25,
     "metadata": {},
     "output_type": "execute_result"
    }
   ],
   "source": [
    "# Query Rows using DataFrame.query()\n",
    "df2=df.query(\"Courses == 'Spark'\")\n",
    "df2"
   ]
  },
  {
   "cell_type": "code",
   "execution_count": 27,
   "id": "7fd20023",
   "metadata": {},
   "outputs": [
    {
     "data": {
      "text/html": [
       "<div>\n",
       "<style scoped>\n",
       "    .dataframe tbody tr th:only-of-type {\n",
       "        vertical-align: middle;\n",
       "    }\n",
       "\n",
       "    .dataframe tbody tr th {\n",
       "        vertical-align: top;\n",
       "    }\n",
       "\n",
       "    .dataframe thead th {\n",
       "        text-align: right;\n",
       "    }\n",
       "</style>\n",
       "<table border=\"1\" class=\"dataframe\">\n",
       "  <thead>\n",
       "    <tr style=\"text-align: right;\">\n",
       "      <th></th>\n",
       "      <th>Courses</th>\n",
       "      <th>Fee</th>\n",
       "      <th>Duration</th>\n",
       "    </tr>\n",
       "  </thead>\n",
       "  <tbody>\n",
       "    <tr>\n",
       "      <th>0</th>\n",
       "      <td>Spark</td>\n",
       "      <td>20000</td>\n",
       "      <td>30days</td>\n",
       "    </tr>\n",
       "  </tbody>\n",
       "</table>\n",
       "</div>"
      ],
      "text/plain": [
       "  Courses    Fee Duration\n",
       "0   Spark  20000   30days"
      ]
     },
     "execution_count": 27,
     "metadata": {},
     "output_type": "execute_result"
    }
   ],
   "source": [
    "# Using variable\n",
    "value='Spark'\n",
    "df2=df.query(\"Courses == @value\")\n",
    "df2"
   ]
  },
  {
   "cell_type": "raw",
   "id": "00feb54a",
   "metadata": {},
   "source": [
    "In case you wanted to update the existing referring DataFrame use inplace=True argument. default inplace=False"
   ]
  },
  {
   "cell_type": "raw",
   "id": "d91730f7",
   "metadata": {},
   "source": [
    "\n",
    "# Not equals, in & multiple conditions\n",
    "df.query(\"Courses != 'Spark'\")\n",
    "df.query(\"Courses in ('Spark','PySpark')\")\n",
    "df.query(\"`Courses Fee` >= 23000\")\n",
    "df.query(\"`Courses Fee` >= 23000 and `Courses Fee` <= 24000\")"
   ]
  },
  {
   "cell_type": "code",
   "execution_count": 33,
   "id": "d622dc71",
   "metadata": {},
   "outputs": [
    {
     "name": "stdout",
     "output_type": "stream",
     "text": [
      "   Courses    Fee Duration  Discount\n",
      "0    Spark  22000   30days      1000\n",
      "1  PySpark  25000   50days      2300\n",
      "2   Hadoop  23000   30days      1000\n",
      "3   Python  24000     None      1200\n",
      "4   Pandas  26000      NaN      2500\n"
     ]
    }
   ],
   "source": [
    "import pandas as pd\n",
    "import numpy as np\n",
    "technologies= {\n",
    "    'Courses':[\"Spark\",\"PySpark\",\"Hadoop\",\"Python\",\"Pandas\"],\n",
    "    'Fee' :[22000,25000,23000,24000,26000],\n",
    "    'Duration':['30days','50days','30days', None,np.nan],\n",
    "    'Discount':[1000,2300,1000,1200,2500]\n",
    "          }\n",
    "df = pd.DataFrame(technologies)\n",
    "print(df)"
   ]
  },
  {
   "cell_type": "code",
   "execution_count": 34,
   "id": "b905c2c8",
   "metadata": {},
   "outputs": [
    {
     "data": {
      "text/html": [
       "<div>\n",
       "<style scoped>\n",
       "    .dataframe tbody tr th:only-of-type {\n",
       "        vertical-align: middle;\n",
       "    }\n",
       "\n",
       "    .dataframe tbody tr th {\n",
       "        vertical-align: top;\n",
       "    }\n",
       "\n",
       "    .dataframe thead th {\n",
       "        text-align: right;\n",
       "    }\n",
       "</style>\n",
       "<table border=\"1\" class=\"dataframe\">\n",
       "  <thead>\n",
       "    <tr style=\"text-align: right;\">\n",
       "      <th></th>\n",
       "      <th>Courses</th>\n",
       "      <th>Fee</th>\n",
       "      <th>Duration</th>\n",
       "      <th>Discount</th>\n",
       "    </tr>\n",
       "  </thead>\n",
       "  <tbody>\n",
       "    <tr>\n",
       "      <th>0</th>\n",
       "      <td>Spark</td>\n",
       "      <td>22000</td>\n",
       "      <td>30days</td>\n",
       "      <td>1000</td>\n",
       "    </tr>\n",
       "    <tr>\n",
       "      <th>1</th>\n",
       "      <td>PySpark</td>\n",
       "      <td>25000</td>\n",
       "      <td>50days</td>\n",
       "      <td>2300</td>\n",
       "    </tr>\n",
       "  </tbody>\n",
       "</table>\n",
       "</div>"
      ],
      "text/plain": [
       "   Courses    Fee Duration  Discount\n",
       "0    Spark  22000   30days      1000\n",
       "1  PySpark  25000   50days      2300"
      ]
     },
     "execution_count": 34,
     "metadata": {},
     "output_type": "execute_result"
    }
   ],
   "source": [
    "df.query(\"Courses in ('Spark','PySpark')\")"
   ]
  },
  {
   "cell_type": "code",
   "execution_count": 35,
   "id": "a118c82b",
   "metadata": {},
   "outputs": [
    {
     "data": {
      "text/html": [
       "<div>\n",
       "<style scoped>\n",
       "    .dataframe tbody tr th:only-of-type {\n",
       "        vertical-align: middle;\n",
       "    }\n",
       "\n",
       "    .dataframe tbody tr th {\n",
       "        vertical-align: top;\n",
       "    }\n",
       "\n",
       "    .dataframe thead th {\n",
       "        text-align: right;\n",
       "    }\n",
       "</style>\n",
       "<table border=\"1\" class=\"dataframe\">\n",
       "  <thead>\n",
       "    <tr style=\"text-align: right;\">\n",
       "      <th></th>\n",
       "      <th>Courses</th>\n",
       "      <th>Fee</th>\n",
       "      <th>Duration</th>\n",
       "      <th>Discount</th>\n",
       "    </tr>\n",
       "  </thead>\n",
       "  <tbody>\n",
       "    <tr>\n",
       "      <th>1</th>\n",
       "      <td>PySpark</td>\n",
       "      <td>25000</td>\n",
       "      <td>50days</td>\n",
       "      <td>2300</td>\n",
       "    </tr>\n",
       "    <tr>\n",
       "      <th>2</th>\n",
       "      <td>Hadoop</td>\n",
       "      <td>23000</td>\n",
       "      <td>30days</td>\n",
       "      <td>1000</td>\n",
       "    </tr>\n",
       "    <tr>\n",
       "      <th>3</th>\n",
       "      <td>Python</td>\n",
       "      <td>24000</td>\n",
       "      <td>None</td>\n",
       "      <td>1200</td>\n",
       "    </tr>\n",
       "    <tr>\n",
       "      <th>4</th>\n",
       "      <td>Pandas</td>\n",
       "      <td>26000</td>\n",
       "      <td>NaN</td>\n",
       "      <td>2500</td>\n",
       "    </tr>\n",
       "  </tbody>\n",
       "</table>\n",
       "</div>"
      ],
      "text/plain": [
       "   Courses    Fee Duration  Discount\n",
       "1  PySpark  25000   50days      2300\n",
       "2   Hadoop  23000   30days      1000\n",
       "3   Python  24000     None      1200\n",
       "4   Pandas  26000      NaN      2500"
      ]
     },
     "execution_count": 35,
     "metadata": {},
     "output_type": "execute_result"
    }
   ],
   "source": [
    "df.query(\"Courses != 'Spark'\")"
   ]
  },
  {
   "cell_type": "code",
   "execution_count": 42,
   "id": "878db4ba",
   "metadata": {},
   "outputs": [
    {
     "name": "stdout",
     "output_type": "stream",
     "text": [
      "  Courses    Fee Duration  Discount\n",
      "2  Hadoop  23000   30days      1000\n",
      "3  Python  24000     None      1200\n"
     ]
    }
   ],
   "source": [
    "# Query by multiple conditions\n",
    "print(df.query(\"`Fee` >= 23000 and `Fee` <= 24000\"))"
   ]
  },
  {
   "cell_type": "code",
   "execution_count": 43,
   "id": "aaf6ebd9",
   "metadata": {},
   "outputs": [
    {
     "name": "stdout",
     "output_type": "stream",
     "text": [
      "   Courses    Fee Duration  Discount\n",
      "0    Spark  22000   30days      1000\n",
      "1  PySpark  25000   50days      2300\n"
     ]
    }
   ],
   "source": [
    "# By using lambda function\n",
    "print(df.apply(lambda row: row[df['Courses'].isin(['Spark','PySpark'])]))"
   ]
  },
  {
   "cell_type": "code",
   "execution_count": 44,
   "id": "f02bce60",
   "metadata": {},
   "outputs": [
    {
     "name": "stdout",
     "output_type": "stream",
     "text": [
      "   Courses    Fee Duration  Discount\n",
      "1  PySpark  25000   50days      2300\n",
      "3   Python  24000     None      1200\n",
      "4   Pandas  26000      NaN      2500\n"
     ]
    }
   ],
   "source": [
    "# Select startswith\n",
    "print(df[df['Courses'].str.startswith(\"P\")]) #get value start p character in "
   ]
  },
  {
   "cell_type": "code",
   "execution_count": null,
   "id": "0a102694",
   "metadata": {},
   "outputs": [],
   "source": []
  }
 ],
 "metadata": {
  "kernelspec": {
   "display_name": "Python 3 (ipykernel)",
   "language": "python",
   "name": "python3"
  },
  "language_info": {
   "codemirror_mode": {
    "name": "ipython",
    "version": 3
   },
   "file_extension": ".py",
   "mimetype": "text/x-python",
   "name": "python",
   "nbconvert_exporter": "python",
   "pygments_lexer": "ipython3",
   "version": "3.11.4"
  }
 },
 "nbformat": 4,
 "nbformat_minor": 5
}
