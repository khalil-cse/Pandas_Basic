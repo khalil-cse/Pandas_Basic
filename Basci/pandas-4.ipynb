{
 "cells": [
  {
   "cell_type": "raw",
   "id": "649fbabd",
   "metadata": {},
   "source": [
    "# Quick Examples of Converting Data Types in Pandas\n",
    "\n",
    "# Example 1: Convert all types to best possible types\n",
    "df2=df.convert_dtypes()\n",
    "\n",
    "# Example 2: Change All Columns to Same type\n",
    "df = df.astype(str)\n",
    "\n",
    "# Example 3: Change Type For One or Multiple Columns\n",
    "df = df.astype({\"Fee\": int, \"Discount\": float})\n",
    "\n",
    "# Example 4: Ignore errors\n",
    "df = df.astype({\"Courses\": int},errors='ignore')\n",
    "\n",
    "# Example 5: Converts object types to possible types\n",
    "df = df.infer_objects()\n",
    "\n",
    "# Example 6: Converts fee column to numeric type\n",
    "df['Fee'] = pd.to_numeric(df['Fee'])\n",
    "\n",
    "# Example 7: Convert Fee and Discount to numeric types\n",
    "df[['Fee', 'Discount']] =df [['Fee', 'Discount']].apply(pd.to_numeric)"
   ]
  },
  {
   "cell_type": "code",
   "execution_count": 2,
   "id": "ef4d4f7b",
   "metadata": {},
   "outputs": [
    {
     "name": "stdout",
     "output_type": "stream",
     "text": [
      "   Courses    Fee Duration   Discount\n",
      "0    Spark  20000     30day      11.8\n",
      "1  PySpark  25000    40days      23.7\n",
      "2   Hadoop  26000    35days      13.4\n",
      "3   Python  22000    40days      15.7\n",
      "4   pandas  24000    60days      12.5\n",
      "5   Oracle  21000    50days      25.4\n",
      "6     Java  22000    55days      18.4\n"
     ]
    }
   ],
   "source": [
    "import pandas as pd\n",
    "technologies = {\n",
    "    'Courses':[\"Spark\",\"PySpark\",\"Hadoop\",\"Python\",\"pandas\",\"Oracle\",\"Java\"],\n",
    "    'Fee' :[20000,25000,26000,22000,24000,21000,22000],\n",
    "    'Duration ':['30day','40days','35days', '40days','60days','50days','55days'],\n",
    "    'Discount':[11.8,23.7,13.4,15.7,12.5,25.4,18.4]\n",
    "    }\n",
    "df = pd.DataFrame(technologies)\n",
    "print(df)"
   ]
  },
  {
   "cell_type": "code",
   "execution_count": 3,
   "id": "6ee11194",
   "metadata": {},
   "outputs": [
    {
     "data": {
      "text/plain": [
       "Courses       object\n",
       "Fee            int64\n",
       "Duration      object\n",
       "Discount     float64\n",
       "dtype: object"
      ]
     },
     "execution_count": 3,
     "metadata": {},
     "output_type": "execute_result"
    }
   ],
   "source": [
    "df.dtypes"
   ]
  },
  {
   "cell_type": "code",
   "execution_count": 4,
   "id": "01cb1859",
   "metadata": {},
   "outputs": [
    {
     "name": "stdout",
     "output_type": "stream",
     "text": [
      "Courses       string\n",
      "Fee            Int64\n",
      "Duration      string\n",
      "Discount     Float64\n",
      "dtype: object\n"
     ]
    }
   ],
   "source": [
    "\n",
    "# Convert all types to best possible types\n",
    "df2=df.convert_dtypes()\n",
    "print(df2.dtypes)"
   ]
  },
  {
   "cell_type": "code",
   "execution_count": 5,
   "id": "4862404f",
   "metadata": {},
   "outputs": [
    {
     "data": {
      "text/html": [
       "<div>\n",
       "<style scoped>\n",
       "    .dataframe tbody tr th:only-of-type {\n",
       "        vertical-align: middle;\n",
       "    }\n",
       "\n",
       "    .dataframe tbody tr th {\n",
       "        vertical-align: top;\n",
       "    }\n",
       "\n",
       "    .dataframe thead th {\n",
       "        text-align: right;\n",
       "    }\n",
       "</style>\n",
       "<table border=\"1\" class=\"dataframe\">\n",
       "  <thead>\n",
       "    <tr style=\"text-align: right;\">\n",
       "      <th></th>\n",
       "      <th>Fee</th>\n",
       "      <th>Discount</th>\n",
       "    </tr>\n",
       "  </thead>\n",
       "  <tbody>\n",
       "    <tr>\n",
       "      <th>0</th>\n",
       "      <td>20000.0</td>\n",
       "      <td>11.8</td>\n",
       "    </tr>\n",
       "    <tr>\n",
       "      <th>1</th>\n",
       "      <td>25000.0</td>\n",
       "      <td>23.7</td>\n",
       "    </tr>\n",
       "    <tr>\n",
       "      <th>2</th>\n",
       "      <td>26000.0</td>\n",
       "      <td>13.4</td>\n",
       "    </tr>\n",
       "    <tr>\n",
       "      <th>3</th>\n",
       "      <td>22000.0</td>\n",
       "      <td>15.7</td>\n",
       "    </tr>\n",
       "    <tr>\n",
       "      <th>4</th>\n",
       "      <td>24000.0</td>\n",
       "      <td>12.5</td>\n",
       "    </tr>\n",
       "    <tr>\n",
       "      <th>5</th>\n",
       "      <td>21000.0</td>\n",
       "      <td>25.4</td>\n",
       "    </tr>\n",
       "    <tr>\n",
       "      <th>6</th>\n",
       "      <td>22000.0</td>\n",
       "      <td>18.4</td>\n",
       "    </tr>\n",
       "  </tbody>\n",
       "</table>\n",
       "</div>"
      ],
      "text/plain": [
       "       Fee  Discount\n",
       "0  20000.0      11.8\n",
       "1  25000.0      23.7\n",
       "2  26000.0      13.4\n",
       "3  22000.0      15.7\n",
       "4  24000.0      12.5\n",
       "5  21000.0      25.4\n",
       "6  22000.0      18.4"
      ]
     },
     "execution_count": 5,
     "metadata": {},
     "output_type": "execute_result"
    }
   ],
   "source": [
    "# Convert data type for all columns in a list\n",
    "df = pd.DataFrame(technologies)\n",
    "cols = ['Fee', 'Discount']\n",
    "df[cols] = df[cols].astype('float')\n",
    "\n",
    "# By using a loop\n",
    "for col in ['Fee', 'Discount']:\n",
    "    df[col] = df[col].astype('float')\n",
    "\n",
    "# By using apply() & astype() together\n",
    "df[['Fee', 'Discount']].apply(lambda x: x.astype('float'))"
   ]
  },
  {
   "cell_type": "code",
   "execution_count": 15,
   "id": "2f3074c8",
   "metadata": {},
   "outputs": [],
   "source": [
    "p=(lambda a,b:a*a+2*a*b+b*b) (2,3)"
   ]
  },
  {
   "cell_type": "code",
   "execution_count": 16,
   "id": "ca8953a3",
   "metadata": {},
   "outputs": [
    {
     "data": {
      "text/plain": [
       "25"
      ]
     },
     "execution_count": 16,
     "metadata": {},
     "output_type": "execute_result"
    }
   ],
   "source": [
    "p"
   ]
  },
  {
   "cell_type": "code",
   "execution_count": 22,
   "id": "e25942ab",
   "metadata": {},
   "outputs": [],
   "source": [
    "# Generates error\n",
    "df = df.astype({\"Courses\": int},errors='ignore') #errors=raise dile error show korbe"
   ]
  },
  {
   "cell_type": "code",
   "execution_count": 23,
   "id": "92d8c92c",
   "metadata": {},
   "outputs": [
    {
     "data": {
      "text/html": [
       "<div>\n",
       "<style scoped>\n",
       "    .dataframe tbody tr th:only-of-type {\n",
       "        vertical-align: middle;\n",
       "    }\n",
       "\n",
       "    .dataframe tbody tr th {\n",
       "        vertical-align: top;\n",
       "    }\n",
       "\n",
       "    .dataframe thead th {\n",
       "        text-align: right;\n",
       "    }\n",
       "</style>\n",
       "<table border=\"1\" class=\"dataframe\">\n",
       "  <thead>\n",
       "    <tr style=\"text-align: right;\">\n",
       "      <th></th>\n",
       "      <th>Courses</th>\n",
       "      <th>Fee</th>\n",
       "      <th>Duration</th>\n",
       "      <th>Discount</th>\n",
       "    </tr>\n",
       "  </thead>\n",
       "  <tbody>\n",
       "    <tr>\n",
       "      <th>0</th>\n",
       "      <td>Spark</td>\n",
       "      <td>20000.0</td>\n",
       "      <td>30day</td>\n",
       "      <td>11.8</td>\n",
       "    </tr>\n",
       "    <tr>\n",
       "      <th>1</th>\n",
       "      <td>PySpark</td>\n",
       "      <td>25000.0</td>\n",
       "      <td>40days</td>\n",
       "      <td>23.7</td>\n",
       "    </tr>\n",
       "    <tr>\n",
       "      <th>2</th>\n",
       "      <td>Hadoop</td>\n",
       "      <td>26000.0</td>\n",
       "      <td>35days</td>\n",
       "      <td>13.4</td>\n",
       "    </tr>\n",
       "    <tr>\n",
       "      <th>3</th>\n",
       "      <td>Python</td>\n",
       "      <td>22000.0</td>\n",
       "      <td>40days</td>\n",
       "      <td>15.7</td>\n",
       "    </tr>\n",
       "    <tr>\n",
       "      <th>4</th>\n",
       "      <td>pandas</td>\n",
       "      <td>24000.0</td>\n",
       "      <td>60days</td>\n",
       "      <td>12.5</td>\n",
       "    </tr>\n",
       "    <tr>\n",
       "      <th>5</th>\n",
       "      <td>Oracle</td>\n",
       "      <td>21000.0</td>\n",
       "      <td>50days</td>\n",
       "      <td>25.4</td>\n",
       "    </tr>\n",
       "    <tr>\n",
       "      <th>6</th>\n",
       "      <td>Java</td>\n",
       "      <td>22000.0</td>\n",
       "      <td>55days</td>\n",
       "      <td>18.4</td>\n",
       "    </tr>\n",
       "  </tbody>\n",
       "</table>\n",
       "</div>"
      ],
      "text/plain": [
       "   Courses      Fee Duration   Discount\n",
       "0    Spark  20000.0     30day      11.8\n",
       "1  PySpark  25000.0    40days      23.7\n",
       "2   Hadoop  26000.0    35days      13.4\n",
       "3   Python  22000.0    40days      15.7\n",
       "4   pandas  24000.0    60days      12.5\n",
       "5   Oracle  21000.0    50days      25.4\n",
       "6     Java  22000.0    55days      18.4"
      ]
     },
     "execution_count": 23,
     "metadata": {},
     "output_type": "execute_result"
    }
   ],
   "source": [
    "df"
   ]
  },
  {
   "cell_type": "code",
   "execution_count": 24,
   "id": "994fabe7",
   "metadata": {},
   "outputs": [
    {
     "name": "stdout",
     "output_type": "stream",
     "text": [
      "Courses       object\n",
      "Fee            int64\n",
      "Duration      object\n",
      "Discount     float64\n",
      "dtype: object\n"
     ]
    }
   ],
   "source": [
    "# Convert Fee and Discount to numeric types\n",
    "df = pd.DataFrame(technologies)\n",
    "df[['Fee', 'Discount']] =df [['Fee', 'Discount']].apply(pd.to_numeric)\n",
    "print(df.dtypes)"
   ]
  },
  {
   "cell_type": "code",
   "execution_count": null,
   "id": "3728e45b",
   "metadata": {},
   "outputs": [],
   "source": []
  }
 ],
 "metadata": {
  "kernelspec": {
   "display_name": "Python 3 (ipykernel)",
   "language": "python",
   "name": "python3"
  },
  "language_info": {
   "codemirror_mode": {
    "name": "ipython",
    "version": 3
   },
   "file_extension": ".py",
   "mimetype": "text/x-python",
   "name": "python",
   "nbconvert_exporter": "python",
   "pygments_lexer": "ipython3",
   "version": "3.11.4"
  }
 },
 "nbformat": 4,
 "nbformat_minor": 5
}
